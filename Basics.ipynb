{
 "cells": [
  {
   "cell_type": "code",
   "execution_count": 1,
   "metadata": {
    "collapsed": false
   },
   "outputs": [],
   "source": [
    "import sqlite3\n",
    "\n",
    "import pandas as pd\n",
    "import numpy as np\n",
    "import matplotlib.pyplot as plt\n",
    "%matplotlib inline"
   ]
  },
  {
   "cell_type": "code",
   "execution_count": 2,
   "metadata": {
    "collapsed": true
   },
   "outputs": [],
   "source": [
    "DB = 'chinook.db'\n",
    "\n",
    "def run_query(query):\n",
    "    with sqlite3.connect(DB) as conn:\n",
    "        query_result = pd.read_sql(query, conn)\n",
    "        \n",
    "        return query_result\n",
    "    \n",
    "def run_command(cmd):\n",
    "    with sqlite3.connect(DB) as conn:\n",
    "        conn.isolation_level = None\n",
    "        conn.execute(cmd)\n",
    "        \n",
    "def show_tables():\n",
    "    query = '''SELECT\n",
    "                   name\n",
    "                   , type\n",
    "               FROM sqlite_master\n",
    "               WHERE type IN (\"table\", \"view\");'''\n",
    "    return run_query(query)"
   ]
  },
  {
   "cell_type": "code",
   "execution_count": 3,
   "metadata": {
    "collapsed": false
   },
   "outputs": [
    {
     "data": {
      "text/html": [
       "<div>\n",
       "<style scoped>\n",
       "    .dataframe tbody tr th:only-of-type {\n",
       "        vertical-align: middle;\n",
       "    }\n",
       "\n",
       "    .dataframe tbody tr th {\n",
       "        vertical-align: top;\n",
       "    }\n",
       "\n",
       "    .dataframe thead th {\n",
       "        text-align: right;\n",
       "    }\n",
       "</style>\n",
       "<table border=\"1\" class=\"dataframe\">\n",
       "  <thead>\n",
       "    <tr style=\"text-align: right;\">\n",
       "      <th></th>\n",
       "      <th>name</th>\n",
       "      <th>type</th>\n",
       "    </tr>\n",
       "  </thead>\n",
       "  <tbody>\n",
       "    <tr>\n",
       "      <th>0</th>\n",
       "      <td>album</td>\n",
       "      <td>table</td>\n",
       "    </tr>\n",
       "    <tr>\n",
       "      <th>1</th>\n",
       "      <td>artist</td>\n",
       "      <td>table</td>\n",
       "    </tr>\n",
       "    <tr>\n",
       "      <th>2</th>\n",
       "      <td>customer</td>\n",
       "      <td>table</td>\n",
       "    </tr>\n",
       "    <tr>\n",
       "      <th>3</th>\n",
       "      <td>employee</td>\n",
       "      <td>table</td>\n",
       "    </tr>\n",
       "    <tr>\n",
       "      <th>4</th>\n",
       "      <td>genre</td>\n",
       "      <td>table</td>\n",
       "    </tr>\n",
       "    <tr>\n",
       "      <th>5</th>\n",
       "      <td>invoice</td>\n",
       "      <td>table</td>\n",
       "    </tr>\n",
       "    <tr>\n",
       "      <th>6</th>\n",
       "      <td>invoice_line</td>\n",
       "      <td>table</td>\n",
       "    </tr>\n",
       "    <tr>\n",
       "      <th>7</th>\n",
       "      <td>media_type</td>\n",
       "      <td>table</td>\n",
       "    </tr>\n",
       "    <tr>\n",
       "      <th>8</th>\n",
       "      <td>playlist</td>\n",
       "      <td>table</td>\n",
       "    </tr>\n",
       "    <tr>\n",
       "      <th>9</th>\n",
       "      <td>playlist_track</td>\n",
       "      <td>table</td>\n",
       "    </tr>\n",
       "    <tr>\n",
       "      <th>10</th>\n",
       "      <td>track</td>\n",
       "      <td>table</td>\n",
       "    </tr>\n",
       "  </tbody>\n",
       "</table>\n",
       "</div>"
      ],
      "text/plain": [
       "              name   type\n",
       "0            album  table\n",
       "1           artist  table\n",
       "2         customer  table\n",
       "3         employee  table\n",
       "4            genre  table\n",
       "5          invoice  table\n",
       "6     invoice_line  table\n",
       "7       media_type  table\n",
       "8         playlist  table\n",
       "9   playlist_track  table\n",
       "10           track  table"
      ]
     },
     "execution_count": 3,
     "metadata": {},
     "output_type": "execute_result"
    }
   ],
   "source": [
    "show_tables()"
   ]
  },
  {
   "cell_type": "code",
   "execution_count": 4,
   "metadata": {
    "collapsed": false
   },
   "outputs": [
    {
     "name": "stdout",
     "output_type": "stream",
     "text": [
      "                    tracks_sold_usa  percentage\n",
      "genre                                          \n",
      "Alternative                      35    0.033302\n",
      "Alternative & Punk              130    0.123692\n",
      "Blues                            36    0.034253\n",
      "Classical                         4    0.003806\n",
      "Easy Listening                   13    0.012369\n",
      "Electronica/Dance                 5    0.004757\n",
      "Heavy Metal                       3    0.002854\n",
      "Hip Hop/Rap                      20    0.019029\n",
      "Jazz                             14    0.013321\n",
      "Latin                            22    0.020932\n",
      "Metal                           124    0.117983\n",
      "Pop                              22    0.020932\n",
      "R&B/Soul                         53    0.050428\n",
      "Reggae                            6    0.005709\n",
      "Rock                            561    0.533777\n",
      "Soundtrack                        2    0.001903\n",
      "TV Shows                          1    0.000951\n"
     ]
    }
   ],
   "source": [
    "query_genre = '''\n",
    "WITH\n",
    "genre_tracks_usa AS\n",
    "    (\n",
    "     SELECT\n",
    "         g.name AS genre\n",
    "         , i.billing_country\n",
    "         , il.invoice_line_id track_sold\n",
    "     FROM invoice AS i\n",
    "         INNER JOIN invoice_line AS il \n",
    "             ON il.invoice_id = i.invoice_id\n",
    "         INNER JOIN track AS t \n",
    "             ON t.track_id = il.track_id\n",
    "         INNER JOIN genre AS g\n",
    "             ON g.genre_id = t.genre_id\n",
    "     WHERE i.billing_country = \"USA\"\n",
    "    )      \n",
    "\n",
    "SELECT\n",
    "    genre\n",
    "    , COUNT(track_sold) AS tracks_sold_usa\n",
    "    , CAST(COUNT(track_sold) AS FLOAT) / \n",
    "        (\n",
    "         SELECT\n",
    "             COUNT(track_sold)\n",
    "         FROM genre_tracks_usa\n",
    "         GROUP BY billing_country\n",
    "        ) AS percentage\n",
    "FROM genre_tracks_usa\n",
    "GROUP BY genre;\n",
    "'''\n",
    "tracks_sold_usa = run_query(query_genre)\n",
    "tracks_sold_usa.set_index('genre', inplace=True)\n",
    "print(tracks_sold_usa)"
   ]
  },
  {
   "cell_type": "code",
   "execution_count": 5,
   "metadata": {
    "collapsed": false
   },
   "outputs": [
    {
     "data": {
      "image/png": "[encoded data removed]",
      "text/plain": [
       "<matplotlib.figure.Figure at 0x7f76f99d47b8>"
      ]
     },
     "metadata": {},
     "output_type": "display_data"
    }
   ],
   "source": [
    "plt.figure(figsize=(8, 6))\n",
    "\n",
    "top_10_genres = tracks_sold_usa.sort_values('percentage').tail(10)\n",
    "top_10_genres['tracks_sold_usa'].plot(\n",
    "    kind='barh',\n",
    "    title='Top 10 Genres by Track Sales in the USA',\n",
    "    cmap=plt.cm.viridis)\n",
    "plt.ylabel('')\n",
    "\n",
    "for i, index in enumerate(top_10_genres.index):\n",
    "    fs = '{:.0f}%'\n",
    "    count = top_10_genres.loc[index, 'tracks_sold_usa']\n",
    "    pct = top_10_genres.loc[index, 'percentage'] * 100\n",
    "    plt.annotate(fs.format(pct), (count+1, i-.1))\n",
    "plt.show()"
   ]
  },
  {
   "cell_type": "code",
   "execution_count": 13,
   "metadata": {
    "collapsed": false
   },
   "outputs": [
    {
     "name": "stdout",
     "output_type": "stream",
     "text": [
      "                 total\n",
      "name                  \n",
      "Jane Peacock   1731.51\n",
      "Margaret Park  1584.00\n",
      "Steve Johnson  1393.92\n"
     ]
    }
   ],
   "source": [
    "# Query that finds total dollar amount of sales assigned to each\n",
    "# support agent within the company\n",
    "query_sales = '''\n",
    "SELECT\n",
    "    e.first_name || \" \" || e.last_name AS name\n",
    "    , SUM(i.total) AS total\n",
    "FROM invoice AS i\n",
    "    INNER JOIN customer AS c\n",
    "        ON c.customer_id = i.customer_id\n",
    "    INNER JOIN employee AS e\n",
    "        ON e.employee_id = c.support_rep_id\n",
    "WHERE e.title = \"Sales Support Agent\"\n",
    "GROUP BY employee_id\n",
    "'''\n",
    "\n",
    "support_agent_total_sales = run_query(query_sales)\n",
    "support_agent_total_sales.set_index('name', inplace=True)\n",
    "print(support_agent_total_sales)"
   ]
  },
  {
   "cell_type": "code",
   "execution_count": 18,
   "metadata": {
    "collapsed": false
   },
   "outputs": [
    {
     "data": {
      "image/png": "[encoded data removed]",
      "text/plain": [
       "<matplotlib.figure.Figure at 0x7f76efa7f128>"
      ]
     },
     "metadata": {},
     "output_type": "display_data"
    }
   ],
   "source": [
    "support_agent_total_sales.plot.barh(\n",
    "    title=\"Sales by Employee\",\n",
    "    legend=False,\n",
    "    cmap=plt.cm.viridis)\n",
    "plt.ylabel('')\n",
    "plt.xlabel('Sales (USD)')\n",
    "plt.show()"
   ]
  },
  {
   "cell_type": "markdown",
   "metadata": {},
   "source": [
    "While there is a 20% difference in sales between Jane (the top employee) and Steve (the bottom employee), the difference roughly corresponds with the differences in their hiring dates."
   ]
  },
  {
   "cell_type": "code",
   "execution_count": null,
   "metadata": {
    "collapsed": true
   },
   "outputs": [],
   "source": []
  }
 ],
 "metadata": {
  "kernelspec": {
   "display_name": "Python 3",
   "language": "python",
   "name": "python3"
  },
  "language_info": {
   "codemirror_mode": {
    "name": "ipython",
    "version": 3
   },
   "file_extension": ".py",
   "mimetype": "text/x-python",
   "name": "python",
   "nbconvert_exporter": "python",
   "pygments_lexer": "ipython3",
   "version": "3.4.3"
  }
 },
 "nbformat": 4,
 "nbformat_minor": 2
}
